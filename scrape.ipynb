{
 "cells": [
  {
   "cell_type": "code",
   "execution_count": 7,
   "id": "ec4dcd3a",
   "metadata": {},
   "outputs": [
    {
     "data": {
      "text/plain": [
       "True"
      ]
     },
     "execution_count": 7,
     "metadata": {},
     "output_type": "execute_result"
    }
   ],
   "source": [
    "from datetime import datetime\n",
    "import requests\n",
    "from bs4 import BeautifulSoup\n",
    "import base64 as b64\n",
    "from html_to_markdown import convert_to_markdown\n",
    "from dotenv import load_dotenv\n",
    "import os \n",
    "\n",
    "load_dotenv()"
   ]
  },
  {
   "cell_type": "code",
   "execution_count": 8,
   "id": "5ce4ce9b",
   "metadata": {},
   "outputs": [],
   "source": [
    "headers = {\n",
    "  'accept': 'application/json, text/javascript, */*; q=0.01',\n",
    "#   'accept-encoding': 'gzip, deflate, br, zstd',\n",
    "  'cookie': os.getenv('COOKIE'),\n",
    "  'x-requested-with': 'XMLHttpRequest'\n",
    "}"
   ]
  },
  {
   "cell_type": "markdown",
   "id": "842c04d2",
   "metadata": {},
   "source": [
    "### getting all post urls between jan 1 - april 14"
   ]
  },
  {
   "cell_type": "code",
   "execution_count": 9,
   "id": "3626e244",
   "metadata": {},
   "outputs": [],
   "source": [
    "post_urls = []\n",
    "\n",
    "for i in range(15):\n",
    "    url = f\"https://discourse.onlinedegree.iitm.ac.in/c/courses/tds-kb/34.json?page={i}\"\n",
    "    r = requests.get(url, headers=headers)\n",
    "\n",
    "    posts = r.json()['topic_list']['topics']\n",
    "\n",
    "    for post in posts:\n",
    "        if datetime(2025, 1, 1) <= datetime.strptime(post['created_at'], \"%Y-%m-%dT%H:%M:%S.%fZ\") <= datetime(2025, 4, 14):\n",
    "            post_urls.append(\"https://discourse.onlinedegree.iitm.ac.in/t/\"+str(post[\"id\"])+\"/posts.json\")"
   ]
  },
  {
   "cell_type": "code",
   "execution_count": 10,
   "id": "eaded36c",
   "metadata": {},
   "outputs": [
    {
     "data": {
      "text/plain": [
       "117"
      ]
     },
     "execution_count": 10,
     "metadata": {},
     "output_type": "execute_result"
    }
   ],
   "source": [
    "len(post_urls) "
   ]
  },
  {
   "cell_type": "markdown",
   "id": "b5cd66a8",
   "metadata": {},
   "source": [
    "### define a function to let an VLM describe images"
   ]
  },
  {
   "cell_type": "code",
   "execution_count": 11,
   "id": "69cd6a76",
   "metadata": {},
   "outputs": [],
   "source": [
    "def get_image_description(img_url):\n",
    "    r = requests.post(\"http://localhost:11434/api/generate\", json={\n",
    "        \"model\": \"minicpm-v:8b-2.6-q8_0\",\n",
    "        \"prompt\": \"Respond with a concise caption describing image\",\n",
    "        \"stream\": False,\n",
    "        \"images\" : [b64.b64encode(requests.get(img_url).content).decode('utf-8')]\n",
    "    })\n",
    "    \n",
    "    if r.status_code != 200:\n",
    "        print(\"failed to get image description for \" + img_url)        \n",
    "        print(\"error: \" + r.text)\n",
    "\n",
    "    return r.json()['response']"
   ]
  },
  {
   "cell_type": "markdown",
   "id": "a271a8ba",
   "metadata": {},
   "source": [
    "### retrieving the post contents and saving them as markdown  "
   ]
  },
  {
   "cell_type": "code",
   "execution_count": 13,
   "id": "32b31083",
   "metadata": {},
   "outputs": [],
   "source": [
    "for url in post_urls:\n",
    "    replies = []\n",
    "    \n",
    "    post = requests.get(url, headers=headers).json()\n",
    "\n",
    "    for reply in post['post_stream']['posts']:\n",
    "        soup = BeautifulSoup(\"@\" + reply[\"display_username\"] + \" said: \" + reply[\"cooked\"] , \"html.parser\")\n",
    "\n",
    "        # add image description later\n",
    "        # for img in soup.find_all(\"img\"):\n",
    "        #         url = img.attrs['src']\n",
    "        #         description = get_image_description(url)\n",
    "        #         img.replace_with(f\"![{description}]({url})\") \n",
    "                \n",
    "        replies.append(str(soup))\n",
    "\n",
    "    # Include slug in filename for easy URL reconstruction\n",
    "    topic_id = post[\"id\"]\n",
    "    topic_slug = post[\"post_stream\"][\"posts\"][0][\"topic_slug\"]\n",
    "    with open(f\"discourse_content/{topic_id}-{topic_slug}.md\", \"w+\") as file:\n",
    "        file.write(convert_to_markdown(\"\\n\".join(replies)))"
   ]
  }
 ],
 "metadata": {
  "kernelspec": {
   "display_name": ".venv",
   "language": "python",
   "name": "python3"
  },
  "language_info": {
   "codemirror_mode": {
    "name": "ipython",
    "version": 3
   },
   "file_extension": ".py",
   "mimetype": "text/x-python",
   "name": "python",
   "nbconvert_exporter": "python",
   "pygments_lexer": "ipython3",
   "version": "3.12.10"
  }
 },
 "nbformat": 4,
 "nbformat_minor": 5
}
